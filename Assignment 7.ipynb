{
 "cells": [
  {
   "cell_type": "code",
   "execution_count": 2,
   "metadata": {},
   "outputs": [
    {
     "name": "stdout",
     "output_type": "stream",
     "text": [
      "\n",
      "Enter the numbers: 1 2 3 4 5 6\n",
      "Sum of the array is:  21\n"
     ]
    }
   ],
   "source": [
    "arr=list(map(int,input(\"\\nEnter the numbers: \").strip().split()))\n",
    "sum=0\n",
    "for i in arr:\n",
    "    sum=sum+i\n",
    "print(\"Sum of the array is: \",sum)\n",
    "    "
   ]
  },
  {
   "cell_type": "code",
   "execution_count": 2,
   "metadata": {},
   "outputs": [
    {
     "name": "stdout",
     "output_type": "stream",
     "text": [
      "\n",
      "Enter the numbers: 5 3 7 8 9 1 4\n",
      "Largest element in the array is:  9\n"
     ]
    }
   ],
   "source": [
    "arr1=list(map(int,input(\"\\nEnter the numbers: \").strip().split()))\n",
    "largest=0\n",
    "for i in arr1:\n",
    "    if i>largest:\n",
    "        largest=i\n",
    "print(\"Largest element in the array is: \",largest)\n",
    "        "
   ]
  },
  {
   "cell_type": "code",
   "execution_count": 5,
   "metadata": {},
   "outputs": [
    {
     "name": "stdout",
     "output_type": "stream",
     "text": [
      "\n",
      "Enter the numbers: 1 2 3 4 5 6 7\n",
      "[2, 3, 4, 5, 6, 7, 1]\n"
     ]
    }
   ],
   "source": [
    "arr2=list(map(int,input(\"\\nEnter the numbers: \").strip().split()))\n",
    "n=len(arr2)\n",
    "temp=arr2[0]\n",
    "for i in range(n-1):\n",
    "    arr2[i]=arr2[i+1]\n",
    "arr2[n-1]=temp\n",
    "print(arr2)\n",
    "    "
   ]
  },
  {
   "cell_type": "code",
   "execution_count": 1,
   "metadata": {},
   "outputs": [
    {
     "name": "stdout",
     "output_type": "stream",
     "text": [
      "\n",
      "Enter the numbers: 12 10 5 6 52 36\n",
      "Enter from where you want to split the array: 2\n",
      "[5, 6, 52, 36, 12, 10]\n"
     ]
    }
   ],
   "source": [
    "arr3=list(map(int,input(\"\\nEnter the numbers: \").strip().split()))\n",
    "k=int(input(\"Enter from where you want to split the array: \"))\n",
    "n=len(arr3)\n",
    "for i in range(0,k):\n",
    "    x=arr3[0]\n",
    "    for j in range(0,n-1):\n",
    "        arr3[j]=arr3[j+1]\n",
    "    arr3[n-1]=x\n",
    "print(arr3)"
   ]
  },
  {
   "cell_type": "code",
   "execution_count": 8,
   "metadata": {},
   "outputs": [
    {
     "name": "stdout",
     "output_type": "stream",
     "text": [
      "\n",
      "Enter the numbers: 1 2 3 4 5 \n",
      "Yes this is a monotonic array\n"
     ]
    }
   ],
   "source": [
    "arr4=list(map(int,input(\"\\nEnter the numbers: \").strip().split()))\n",
    "asc_arr=sorted(arr4)\n",
    "des_arr=sorted(arr4,reverse=True)\n",
    "if (arr4==asc_arr):\n",
    "    print(\"Yes this is a monotonic array\")\n",
    "elif(arr4==des_arr):\n",
    "    print(\"Yes this is a monotonic array\")\n",
    "else:\n",
    "    print(\"No this is not a monotonic array\")\n",
    "    \n",
    "    "
   ]
  },
  {
   "cell_type": "code",
   "execution_count": null,
   "metadata": {},
   "outputs": [],
   "source": []
  }
 ],
 "metadata": {
  "kernelspec": {
   "display_name": "Python 3",
   "language": "python",
   "name": "python3"
  },
  "language_info": {
   "codemirror_mode": {
    "name": "ipython",
    "version": 3
   },
   "file_extension": ".py",
   "mimetype": "text/x-python",
   "name": "python",
   "nbconvert_exporter": "python",
   "pygments_lexer": "ipython3",
   "version": "3.8.5"
  }
 },
 "nbformat": 4,
 "nbformat_minor": 4
}
